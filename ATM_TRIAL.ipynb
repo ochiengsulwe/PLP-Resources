{
  "cells": [
    {
      "cell_type": "markdown",
      "metadata": {
        "id": "view-in-github",
        "colab_type": "text"
      },
      "source": [
        "<a href=\"https://colab.research.google.com/github/ochiengsulwe/PLP-Resources/blob/main/ATM_TRIAL.ipynb\" target=\"_parent\"><img src=\"https://colab.research.google.com/assets/colab-badge.svg\" alt=\"Open In Colab\"/></a>"
      ]
    },
    {
      "cell_type": "code",
      "execution_count": null,
      "metadata": {
        "colab": {
          "base_uri": "https://localhost:8080/"
        },
        "id": "0sVqcEIMUSLw",
        "outputId": "ab24814b-9432-41f4-d911-155e22d2567e"
      },
      "outputs": [
        {
          "output_type": "stream",
          "name": "stdout",
          "text": [
            "Welcome to SULWE BANK: \n",
            "Enter your username:\n",
            "Ochieng' Odongo\n",
            "Enter your pin:\n",
            "2000\n",
            "Welcome to ATM console, How may we be of service\n"
          ]
        }
      ],
      "source": [
        "from ast import Break\n",
        "import time\n",
        "import datetime\n",
        "from tkinter.messagebox import YES\n",
        "atmusers={\"username\":\"Ochieng' Odongo\",\"pin\":\"2000\",\"balance\":{'KSH':14526971358, 'USD':2578412025}}\n",
        "print(\"Welcome to SULWE BANK: \")\n",
        "time.sleep(3)\n",
        "#print(\"Login for existing user\")\n",
        "time.sleep(3)\n",
        "\n",
        "def check_login():\n",
        "    while True:\n",
        "          username = input('Enter your username:\\n')\n",
        "          pin = input('Enter your pin:\\n')\n",
        "          if username in atmusers[\"username\"] and pin in atmusers[\"pin\"]:\n",
        "            True\n",
        "            break\n",
        "          else:\n",
        "           print ('\\nIncorrect input, try again') \n",
        "           False    \n",
        "check_login()\n",
        "print('Welcome to ATM console, How may we be of service')\n",
        "def withdrawal() :\n",
        "  \n",
        "  while True:\n",
        "    amount = int(input('enter amount you want to withdraw '))\n",
        "    Oldbalance=atmusers['balance']['KSH']\n",
        "    if amount < Oldbalance:\n",
        "        new_balance=Oldbalance-amount\n",
        "        print ('transaction successful, new_balance is ', new_balance)\n",
        "        updatedbalance={\"balance\":{'KSH':new_balance, 'USD':2578412025}}\n",
        "        atmusers.update(updatedbalance)\n",
        "        True\n",
        "        break\n",
        "    else : \n",
        "        print('insufficient balance, try again')\n",
        "        False\n",
        "def receipts() :\n",
        "    while True:\n",
        "        receipts= (input ('Do you want a receipt Yes or No '))\n",
        "        if receipts == \"Yes\" or \"yes\":\n",
        "            print (atmusers[\"username\"])\n",
        "            print ('Thank you for banking with SULWE Bank')\n",
        "            print ('Welcome again')\n",
        "            print('Balance', atmusers[\"balance\"])\n",
        "            True\n",
        "            break\n",
        "        elif receipts== 'No' or \"no\" :\n",
        "            print('Thank you! Exiting')\n",
        "            True\n",
        "            break\n",
        "        else :\n",
        "            print ('Invalid input, type Yes or No')\n",
        "            False\n",
        "\n",
        "def check_balance() :\n",
        "       print('Your balance is', atmusers[\"balance\"])\n",
        "def menu() : \n",
        "    Selection = int(input('Press 1 to withdraw cash or press 2 to check balance '))\n",
        "    if Selection == 1:\n",
        "        withdrawal()\n",
        "    elif  Selection == 2:\n",
        "        check_balance()\n",
        "    else :\n",
        "        print ('invalid input')\n",
        "        menu()\n",
        "def quit () :\n",
        "    go= input('Do you want to perform another transaction Yes or No? ')\n",
        "    if go == 'Yes' or 'yes':\n",
        "        menu()\n",
        "        receipts()\n",
        "        quit()\n",
        "    elif go== 'No' or 'no':\n",
        "        print ('Thank you! Ending session')\n",
        "        quit()\n",
        "    else:\n",
        "        print('invalid input')\n",
        "        quit()\n",
        "menu()\n",
        "receipts()\n",
        "quit()\n"
      ]
    }
  ],
  "metadata": {
    "colab": {
      "collapsed_sections": [],
      "name": "ATM TRIAL",
      "provenance": [],
      "authorship_tag": "ABX9TyMbvFGD8Nj4H0OWZ6BcfjOJ",
      "include_colab_link": true
    },
    "kernelspec": {
      "display_name": "Python 3",
      "name": "python3"
    },
    "language_info": {
      "name": "python"
    }
  },
  "nbformat": 4,
  "nbformat_minor": 0
}